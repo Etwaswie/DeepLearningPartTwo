{
  "nbformat": 4,
  "nbformat_minor": 0,
  "metadata": {
    "colab": {
      "provenance": []
    },
    "kernelspec": {
      "name": "python3",
      "display_name": "Python 3"
    },
    "language_info": {
      "name": "python"
    }
  },
  "cells": [
    {
      "cell_type": "code",
      "execution_count": 7,
      "metadata": {
        "id": "Zh7qrh2w9X98"
      },
      "outputs": [],
      "source": [
        "import pandas as pd\n",
        "import numpy as np"
      ]
    },
    {
      "cell_type": "code",
      "source": [
        "employees = pd.read_csv('/content/test_res.csv')\n",
        "vacancies = pd.read_csv('/content/vacancies.csv', error_bad_lines=False)"
      ],
      "metadata": {
        "colab": {
          "base_uri": "https://localhost:8080/"
        },
        "id": "g1JokQYt9j1m",
        "outputId": "878d6bb6-bcbe-4fde-bf17-ce93a1eab02b"
      },
      "execution_count": 13,
      "outputs": [
        {
          "output_type": "stream",
          "name": "stderr",
          "text": [
            "<ipython-input-13-52add874d4d6>:2: FutureWarning: The error_bad_lines argument has been deprecated and will be removed in a future version. Use on_bad_lines in the future.\n",
            "\n",
            "\n",
            "  vacancies = pd.read_csv('/content/vacancies.csv', error_bad_lines=False)\n"
          ]
        }
      ]
    },
    {
      "cell_type": "code",
      "source": [
        "vacancies.head(1)"
      ],
      "metadata": {
        "id": "-BKJNn4Z_oMg",
        "outputId": "90150775-9b34-4f04-e120-70d8e0fc7c44",
        "colab": {
          "base_uri": "https://localhost:8080/",
          "height": 98
        }
      },
      "execution_count": 14,
      "outputs": [
        {
          "output_type": "execute_result",
          "data": {
            "text/plain": [
              "                                       vac_title_tag  \\\n",
              "0  <h1 class=\"bloko-header-section-1\" data-qa=\"va...   \n",
              "\n",
              "                   vacancy_title required_experience  \\\n",
              "0  Full-stack Developer (PHP/JS)             3–6 лет   \n",
              "\n",
              "                                         description skills      address  \\\n",
              "0   топ-3 Мы — в тройке лучших работодателей сегм...    NaN  Калининград   \n",
              "\n",
              "                            mode  \\\n",
              "0  Полная занятость, полный день   \n",
              "\n",
              "                                                link  \n",
              "0  https://adsrv.hh.ru/click?b=730457&c=7&place=3...  "
            ],
            "text/html": [
              "\n",
              "  <div id=\"df-474df34c-ff0f-4ca8-b178-6b43c65c2692\" class=\"colab-df-container\">\n",
              "    <div>\n",
              "<style scoped>\n",
              "    .dataframe tbody tr th:only-of-type {\n",
              "        vertical-align: middle;\n",
              "    }\n",
              "\n",
              "    .dataframe tbody tr th {\n",
              "        vertical-align: top;\n",
              "    }\n",
              "\n",
              "    .dataframe thead th {\n",
              "        text-align: right;\n",
              "    }\n",
              "</style>\n",
              "<table border=\"1\" class=\"dataframe\">\n",
              "  <thead>\n",
              "    <tr style=\"text-align: right;\">\n",
              "      <th></th>\n",
              "      <th>vac_title_tag</th>\n",
              "      <th>vacancy_title</th>\n",
              "      <th>required_experience</th>\n",
              "      <th>description</th>\n",
              "      <th>skills</th>\n",
              "      <th>address</th>\n",
              "      <th>mode</th>\n",
              "      <th>link</th>\n",
              "    </tr>\n",
              "  </thead>\n",
              "  <tbody>\n",
              "    <tr>\n",
              "      <th>0</th>\n",
              "      <td>&lt;h1 class=\"bloko-header-section-1\" data-qa=\"va...</td>\n",
              "      <td>Full-stack Developer (PHP/JS)</td>\n",
              "      <td>3–6 лет</td>\n",
              "      <td>топ-3 Мы — в тройке лучших работодателей сегм...</td>\n",
              "      <td>NaN</td>\n",
              "      <td>Калининград</td>\n",
              "      <td>Полная занятость, полный день</td>\n",
              "      <td>https://adsrv.hh.ru/click?b=730457&amp;c=7&amp;place=3...</td>\n",
              "    </tr>\n",
              "  </tbody>\n",
              "</table>\n",
              "</div>\n",
              "    <div class=\"colab-df-buttons\">\n",
              "\n",
              "  <div class=\"colab-df-container\">\n",
              "    <button class=\"colab-df-convert\" onclick=\"convertToInteractive('df-474df34c-ff0f-4ca8-b178-6b43c65c2692')\"\n",
              "            title=\"Convert this dataframe to an interactive table.\"\n",
              "            style=\"display:none;\">\n",
              "\n",
              "  <svg xmlns=\"http://www.w3.org/2000/svg\" height=\"24px\" viewBox=\"0 -960 960 960\">\n",
              "    <path d=\"M120-120v-720h720v720H120Zm60-500h600v-160H180v160Zm220 220h160v-160H400v160Zm0 220h160v-160H400v160ZM180-400h160v-160H180v160Zm440 0h160v-160H620v160ZM180-180h160v-160H180v160Zm440 0h160v-160H620v160Z\"/>\n",
              "  </svg>\n",
              "    </button>\n",
              "\n",
              "  <style>\n",
              "    .colab-df-container {\n",
              "      display:flex;\n",
              "      gap: 12px;\n",
              "    }\n",
              "\n",
              "    .colab-df-convert {\n",
              "      background-color: #E8F0FE;\n",
              "      border: none;\n",
              "      border-radius: 50%;\n",
              "      cursor: pointer;\n",
              "      display: none;\n",
              "      fill: #1967D2;\n",
              "      height: 32px;\n",
              "      padding: 0 0 0 0;\n",
              "      width: 32px;\n",
              "    }\n",
              "\n",
              "    .colab-df-convert:hover {\n",
              "      background-color: #E2EBFA;\n",
              "      box-shadow: 0px 1px 2px rgba(60, 64, 67, 0.3), 0px 1px 3px 1px rgba(60, 64, 67, 0.15);\n",
              "      fill: #174EA6;\n",
              "    }\n",
              "\n",
              "    .colab-df-buttons div {\n",
              "      margin-bottom: 4px;\n",
              "    }\n",
              "\n",
              "    [theme=dark] .colab-df-convert {\n",
              "      background-color: #3B4455;\n",
              "      fill: #D2E3FC;\n",
              "    }\n",
              "\n",
              "    [theme=dark] .colab-df-convert:hover {\n",
              "      background-color: #434B5C;\n",
              "      box-shadow: 0px 1px 3px 1px rgba(0, 0, 0, 0.15);\n",
              "      filter: drop-shadow(0px 1px 2px rgba(0, 0, 0, 0.3));\n",
              "      fill: #FFFFFF;\n",
              "    }\n",
              "  </style>\n",
              "\n",
              "    <script>\n",
              "      const buttonEl =\n",
              "        document.querySelector('#df-474df34c-ff0f-4ca8-b178-6b43c65c2692 button.colab-df-convert');\n",
              "      buttonEl.style.display =\n",
              "        google.colab.kernel.accessAllowed ? 'block' : 'none';\n",
              "\n",
              "      async function convertToInteractive(key) {\n",
              "        const element = document.querySelector('#df-474df34c-ff0f-4ca8-b178-6b43c65c2692');\n",
              "        const dataTable =\n",
              "          await google.colab.kernel.invokeFunction('convertToInteractive',\n",
              "                                                    [key], {});\n",
              "        if (!dataTable) return;\n",
              "\n",
              "        const docLinkHtml = 'Like what you see? Visit the ' +\n",
              "          '<a target=\"_blank\" href=https://colab.research.google.com/notebooks/data_table.ipynb>data table notebook</a>'\n",
              "          + ' to learn more about interactive tables.';\n",
              "        element.innerHTML = '';\n",
              "        dataTable['output_type'] = 'display_data';\n",
              "        await google.colab.output.renderOutput(dataTable, element);\n",
              "        const docLink = document.createElement('div');\n",
              "        docLink.innerHTML = docLinkHtml;\n",
              "        element.appendChild(docLink);\n",
              "      }\n",
              "    </script>\n",
              "  </div>\n",
              "\n",
              "    </div>\n",
              "  </div>\n"
            ]
          },
          "metadata": {},
          "execution_count": 14
        }
      ]
    },
    {
      "cell_type": "code",
      "source": [
        "vacancies['id'] = range(4746)"
      ],
      "metadata": {
        "id": "DRTLV8cgAJ3f"
      },
      "execution_count": 24,
      "outputs": []
    },
    {
      "cell_type": "code",
      "source": [
        "employees.head(1)"
      ],
      "metadata": {
        "id": "zSHocXLp_sd0",
        "outputId": "7ee20faf-af98-4d92-f5f8-27978e937422",
        "colab": {
          "base_uri": "https://localhost:8080/",
          "height": 257
        }
      },
      "execution_count": 76,
      "outputs": [
        {
          "output_type": "execute_result",
          "data": {
            "text/plain": [
              "   Unnamed: 0                              Пол, возраст           ЗП  \\\n",
              "0           0  Мужчина ,  38 лет , родился 25 июня 1980  100000 руб.   \n",
              "\n",
              "                           Ищет работу на должность:  \\\n",
              "0  веб разработчик html css js php базы данных фр...   \n",
              "\n",
              "                        Город, переезд, командировки  \\\n",
              "0  Саратов , не готов к переезду , готов к редким...   \n",
              "\n",
              "                                           Занятость  \\\n",
              "0  частичная занятость, проектная работа, полная ...   \n",
              "\n",
              "                            График  \\\n",
              "0  гибкий график, удаленная работа   \n",
              "\n",
              "                                         Опыт работы  \\\n",
              "0  Опыт работы 18 лет 9 месяцев  Август 2017 — Ап...   \n",
              "\n",
              "  Последнее/нынешнее место работы Последняя/нынешняя должность  \\\n",
              "0                        OpenSoft          Инженер-программист   \n",
              "\n",
              "                                   Образование и ВУЗ  \\\n",
              "0  Высшее образование 2002  Саратовский государст...   \n",
              "\n",
              "                                                 all  \\\n",
              "0  0мужчина 38 лет родился 25 июня 1980100000 руб...   \n",
              "\n",
              "                                            embedigs               job  \\\n",
              "0  [-2.41521209e-01  4.56958860e-01 -2.31135949e-...  [0.9373709, 530]   \n",
              "\n",
              "               job2               job3  id  \n",
              "0  [0.9230975, 346]  [0.9035956, 2947]   0  "
            ],
            "text/html": [
              "\n",
              "  <div id=\"df-ca9774bc-426c-4223-a9d0-ab825f193621\" class=\"colab-df-container\">\n",
              "    <div>\n",
              "<style scoped>\n",
              "    .dataframe tbody tr th:only-of-type {\n",
              "        vertical-align: middle;\n",
              "    }\n",
              "\n",
              "    .dataframe tbody tr th {\n",
              "        vertical-align: top;\n",
              "    }\n",
              "\n",
              "    .dataframe thead th {\n",
              "        text-align: right;\n",
              "    }\n",
              "</style>\n",
              "<table border=\"1\" class=\"dataframe\">\n",
              "  <thead>\n",
              "    <tr style=\"text-align: right;\">\n",
              "      <th></th>\n",
              "      <th>Unnamed: 0</th>\n",
              "      <th>Пол, возраст</th>\n",
              "      <th>ЗП</th>\n",
              "      <th>Ищет работу на должность:</th>\n",
              "      <th>Город, переезд, командировки</th>\n",
              "      <th>Занятость</th>\n",
              "      <th>График</th>\n",
              "      <th>Опыт работы</th>\n",
              "      <th>Последнее/нынешнее место работы</th>\n",
              "      <th>Последняя/нынешняя должность</th>\n",
              "      <th>Образование и ВУЗ</th>\n",
              "      <th>all</th>\n",
              "      <th>embedigs</th>\n",
              "      <th>job</th>\n",
              "      <th>job2</th>\n",
              "      <th>job3</th>\n",
              "      <th>id</th>\n",
              "    </tr>\n",
              "  </thead>\n",
              "  <tbody>\n",
              "    <tr>\n",
              "      <th>0</th>\n",
              "      <td>0</td>\n",
              "      <td>Мужчина ,  38 лет , родился 25 июня 1980</td>\n",
              "      <td>100000 руб.</td>\n",
              "      <td>веб разработчик html css js php базы данных фр...</td>\n",
              "      <td>Саратов , не готов к переезду , готов к редким...</td>\n",
              "      <td>частичная занятость, проектная работа, полная ...</td>\n",
              "      <td>гибкий график, удаленная работа</td>\n",
              "      <td>Опыт работы 18 лет 9 месяцев  Август 2017 — Ап...</td>\n",
              "      <td>OpenSoft</td>\n",
              "      <td>Инженер-программист</td>\n",
              "      <td>Высшее образование 2002  Саратовский государст...</td>\n",
              "      <td>0мужчина 38 лет родился 25 июня 1980100000 руб...</td>\n",
              "      <td>[-2.41521209e-01  4.56958860e-01 -2.31135949e-...</td>\n",
              "      <td>[0.9373709, 530]</td>\n",
              "      <td>[0.9230975, 346]</td>\n",
              "      <td>[0.9035956, 2947]</td>\n",
              "      <td>0</td>\n",
              "    </tr>\n",
              "  </tbody>\n",
              "</table>\n",
              "</div>\n",
              "    <div class=\"colab-df-buttons\">\n",
              "\n",
              "  <div class=\"colab-df-container\">\n",
              "    <button class=\"colab-df-convert\" onclick=\"convertToInteractive('df-ca9774bc-426c-4223-a9d0-ab825f193621')\"\n",
              "            title=\"Convert this dataframe to an interactive table.\"\n",
              "            style=\"display:none;\">\n",
              "\n",
              "  <svg xmlns=\"http://www.w3.org/2000/svg\" height=\"24px\" viewBox=\"0 -960 960 960\">\n",
              "    <path d=\"M120-120v-720h720v720H120Zm60-500h600v-160H180v160Zm220 220h160v-160H400v160Zm0 220h160v-160H400v160ZM180-400h160v-160H180v160Zm440 0h160v-160H620v160ZM180-180h160v-160H180v160Zm440 0h160v-160H620v160Z\"/>\n",
              "  </svg>\n",
              "    </button>\n",
              "\n",
              "  <style>\n",
              "    .colab-df-container {\n",
              "      display:flex;\n",
              "      gap: 12px;\n",
              "    }\n",
              "\n",
              "    .colab-df-convert {\n",
              "      background-color: #E8F0FE;\n",
              "      border: none;\n",
              "      border-radius: 50%;\n",
              "      cursor: pointer;\n",
              "      display: none;\n",
              "      fill: #1967D2;\n",
              "      height: 32px;\n",
              "      padding: 0 0 0 0;\n",
              "      width: 32px;\n",
              "    }\n",
              "\n",
              "    .colab-df-convert:hover {\n",
              "      background-color: #E2EBFA;\n",
              "      box-shadow: 0px 1px 2px rgba(60, 64, 67, 0.3), 0px 1px 3px 1px rgba(60, 64, 67, 0.15);\n",
              "      fill: #174EA6;\n",
              "    }\n",
              "\n",
              "    .colab-df-buttons div {\n",
              "      margin-bottom: 4px;\n",
              "    }\n",
              "\n",
              "    [theme=dark] .colab-df-convert {\n",
              "      background-color: #3B4455;\n",
              "      fill: #D2E3FC;\n",
              "    }\n",
              "\n",
              "    [theme=dark] .colab-df-convert:hover {\n",
              "      background-color: #434B5C;\n",
              "      box-shadow: 0px 1px 3px 1px rgba(0, 0, 0, 0.15);\n",
              "      filter: drop-shadow(0px 1px 2px rgba(0, 0, 0, 0.3));\n",
              "      fill: #FFFFFF;\n",
              "    }\n",
              "  </style>\n",
              "\n",
              "    <script>\n",
              "      const buttonEl =\n",
              "        document.querySelector('#df-ca9774bc-426c-4223-a9d0-ab825f193621 button.colab-df-convert');\n",
              "      buttonEl.style.display =\n",
              "        google.colab.kernel.accessAllowed ? 'block' : 'none';\n",
              "\n",
              "      async function convertToInteractive(key) {\n",
              "        const element = document.querySelector('#df-ca9774bc-426c-4223-a9d0-ab825f193621');\n",
              "        const dataTable =\n",
              "          await google.colab.kernel.invokeFunction('convertToInteractive',\n",
              "                                                    [key], {});\n",
              "        if (!dataTable) return;\n",
              "\n",
              "        const docLinkHtml = 'Like what you see? Visit the ' +\n",
              "          '<a target=\"_blank\" href=https://colab.research.google.com/notebooks/data_table.ipynb>data table notebook</a>'\n",
              "          + ' to learn more about interactive tables.';\n",
              "        element.innerHTML = '';\n",
              "        dataTable['output_type'] = 'display_data';\n",
              "        await google.colab.output.renderOutput(dataTable, element);\n",
              "        const docLink = document.createElement('div');\n",
              "        docLink.innerHTML = docLinkHtml;\n",
              "        element.appendChild(docLink);\n",
              "      }\n",
              "    </script>\n",
              "  </div>\n",
              "\n",
              "    </div>\n",
              "  </div>\n"
            ]
          },
          "metadata": {},
          "execution_count": 76
        }
      ]
    },
    {
      "cell_type": "code",
      "source": [
        "v_ids = []\n",
        "uid = 0\n",
        "\n",
        "for col in ['job', 'job2', 'job3']:\n",
        " v_ids.append(int(employees[employees['id'] == uid][col][uid].replace(\"]\", \"\").split(', ')[1]))"
      ],
      "metadata": {
        "id": "sRssMsOWDl-V"
      },
      "execution_count": 77,
      "outputs": []
    },
    {
      "cell_type": "code",
      "source": [
        "v_ids"
      ],
      "metadata": {
        "id": "myiD9ykjEwAW",
        "outputId": "1f18f0d9-7b93-4e2f-e714-3b5bd1f8080f",
        "colab": {
          "base_uri": "https://localhost:8080/"
        }
      },
      "execution_count": 78,
      "outputs": [
        {
          "output_type": "execute_result",
          "data": {
            "text/plain": [
              "[530, 346, 2947]"
            ]
          },
          "metadata": {},
          "execution_count": 78
        }
      ]
    },
    {
      "cell_type": "code",
      "source": [
        "v_names = []\n",
        "\n",
        "for vid in v_ids:\n",
        "  v_names.append(vacancies[vacancies['id'] == vid]['vacancy_title'][vid])"
      ],
      "metadata": {
        "id": "qLmAsiyU-m7I"
      },
      "execution_count": 83,
      "outputs": []
    },
    {
      "cell_type": "code",
      "source": [
        "v_names"
      ],
      "metadata": {
        "id": "-CEqSLaEF1B2",
        "outputId": "54010a4e-ed1e-4fbf-8408-b610f93ddb99",
        "colab": {
          "base_uri": "https://localhost:8080/"
        }
      },
      "execution_count": 84,
      "outputs": [
        {
          "output_type": "execute_result",
          "data": {
            "text/plain": [
              "['Senior PHP-разработчик', 'Senior PHP-разработчик', 'Программист PHP']"
            ]
          },
          "metadata": {},
          "execution_count": 84
        }
      ]
    },
    {
      "cell_type": "code",
      "source": [
        "id_names = {}\n",
        "\n",
        "for uid in range(20):\n",
        "  v_ids = []\n",
        "  v_names = []\n",
        "\n",
        "  for col in ['job', 'job2', 'job3']:\n",
        "    v_ids.append(int(employees[employees['id'] == uid][col][uid].replace(\"]\", \"\").split(', ')[1]))\n",
        "\n",
        "  for vid in v_ids:\n",
        "    v_names.append(vacancies[vacancies['id'] == vid]['vacancy_title'][vid])\n",
        "\n",
        "  id_names[uid] = \",\".join(v_names)"
      ],
      "metadata": {
        "id": "rogQGV2RHbAP"
      },
      "execution_count": 85,
      "outputs": []
    },
    {
      "cell_type": "code",
      "source": [
        "data = { 'id': range(20), 'v_names': id_names.values()}"
      ],
      "metadata": {
        "id": "fkKUWNiMH9fD"
      },
      "execution_count": 98,
      "outputs": []
    },
    {
      "cell_type": "code",
      "source": [
        "df = pd.DataFrame.from_dict(data)"
      ],
      "metadata": {
        "id": "5xksVXqnIQHf"
      },
      "execution_count": 101,
      "outputs": []
    },
    {
      "cell_type": "code",
      "source": [
        "df[df['id'] == 1]['v_names'][1]"
      ],
      "metadata": {
        "id": "SExkZdkoIxQL",
        "outputId": "51b0ab17-879b-4375-c32f-2423cef9a9dd",
        "colab": {
          "base_uri": "https://localhost:8080/",
          "height": 36
        }
      },
      "execution_count": 107,
      "outputs": [
        {
          "output_type": "execute_result",
          "data": {
            "text/plain": [
              "'Менеджер по развитию/маркетолог,Ведущий бизнес аналитик,Ведущий инженер-программист'"
            ],
            "application/vnd.google.colaboratory.intrinsic+json": {
              "type": "string"
            }
          },
          "metadata": {},
          "execution_count": 107
        }
      ]
    },
    {
      "cell_type": "code",
      "source": [
        "df.to_csv('/content/uid_to_vname.csv')"
      ],
      "metadata": {
        "id": "GbDHs2MXJ3LX"
      },
      "execution_count": 108,
      "outputs": []
    }
  ]
}